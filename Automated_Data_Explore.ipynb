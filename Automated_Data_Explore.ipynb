{
 "cells": [
  {
   "cell_type": "code",
   "execution_count": null,
   "metadata": {},
   "outputs": [],
   "source": [
    "import pandas as pd\n",
    "import numpy as np\n",
    "pd.set_option('display.max_rows', 500)\n",
    "pd.set_option('display.max_columns', 500)\n",
    "pd.set_option('display.float_format', lambda x: '%.3f' % x)\n",
    "import seaborn as sns\n",
    "import matplotlib.pyplot as plt\n",
    "import numpy as np\n",
    "from pandas.api.types import is_string_dtype, is_numeric_dtype"
   ]
  },
  {
   "cell_type": "code",
   "execution_count": null,
   "metadata": {},
   "outputs": [],
   "source": [
    "#Guide form https://www.visual-design.net/post/semi-automated-exploratory-data-analysis-process-in-python"
   ]
  },
  {
   "cell_type": "code",
   "execution_count": null,
   "metadata": {},
   "outputs": [],
   "source": [
    "####Goal of the sheet is to quickly doing exploratey analysis on a dataset"
   ]
  },
  {
   "cell_type": "code",
   "execution_count": null,
   "metadata": {},
   "outputs": [],
   "source": [
    "df = pd.read_csv(\"NBA_Player_Gamelog_2015_2021.csv\")\n",
    "df.head()"
   ]
  },
  {
   "cell_type": "code",
   "execution_count": null,
   "metadata": {
    "scrolled": true
   },
   "outputs": [],
   "source": [
    "df.info()"
   ]
  },
  {
   "cell_type": "code",
   "execution_count": null,
   "metadata": {
    "scrolled": false
   },
   "outputs": [],
   "source": [
    "df.describe()"
   ]
  },
  {
   "cell_type": "code",
   "execution_count": null,
   "metadata": {
    "scrolled": true
   },
   "outputs": [],
   "source": [
    "# missing values #\n",
    "missing_count = df.isnull().sum() # the count of missing values\n",
    "value_count = df.isnull().count() # the count of all values \n",
    "missing_percentage = round(missing_count / value_count * 100,2) #the percentage of missing values\n",
    "missing_df = pd.DataFrame({'count': missing_count, 'percentage': missing_percentage}) #create a dataframe\n",
    "print(missing_df)"
   ]
  },
  {
   "cell_type": "code",
   "execution_count": null,
   "metadata": {},
   "outputs": [],
   "source": [
    "# populate the list of numeric attributes and categorical attributes\n",
    "num_list = []\n",
    "cat_list = []\n",
    "\n",
    "for column in df:\n",
    " if is_numeric_dtype(df[column]):\n",
    "        num_list.append(column)\n",
    " elif is_string_dtype(df[column]):\n",
    "        cat_list.append(column)    \n",
    "\n",
    "print(\"number columns\")\n",
    "print(num_list)\n",
    "print(\"Cat list\")\n",
    "print(cat_list)\n"
   ]
  },
  {
   "cell_type": "code",
   "execution_count": null,
   "metadata": {},
   "outputs": [],
   "source": [
    "# visualize missing value#\n",
    "barchart = missing_df.plot.bar(y='percentage',figsize=(15,15))\n",
    "for index, percentage in enumerate(missing_percentage):\n",
    "    barchart.text(index, percentage, str(percentage) + '%' )"
   ]
  },
  {
   "cell_type": "code",
   "execution_count": null,
   "metadata": {},
   "outputs": [],
   "source": []
  },
  {
   "cell_type": "code",
   "execution_count": null,
   "metadata": {},
   "outputs": [],
   "source": [
    "###Helping tools to working with the data\n",
    "#Adding a lenght column\n",
    "df['bbref_len'] = df['bbref_code'].apply(len)"
   ]
  },
  {
   "cell_type": "code",
   "execution_count": null,
   "metadata": {},
   "outputs": [],
   "source": [
    "###Covert dates\n",
    "df['month'] = pd.to_datetime(df['Date']).dt.month.apply(str)\n",
    "df['year'] = pd.to_datetime(df['Date']).dt.year.apply(str)\n",
    "df['day'] = pd.to_datetime(df['Date']).dt.day.apply(str)"
   ]
  },
  {
   "cell_type": "code",
   "execution_count": null,
   "metadata": {},
   "outputs": [],
   "source": [
    "####Drop Data\n",
    "print(df.shape)\n",
    "df = df.drop(['month', 'year', 'day'], axis=1)\n",
    "print(df.shape)"
   ]
  },
  {
   "cell_type": "code",
   "execution_count": null,
   "metadata": {},
   "outputs": [],
   "source": []
  },
  {
   "cell_type": "code",
   "execution_count": null,
   "metadata": {},
   "outputs": [],
   "source": [
    "df.head()"
   ]
  },
  {
   "cell_type": "code",
   "execution_count": null,
   "metadata": {},
   "outputs": [],
   "source": [
    "### 3. Univaraite Analysis ###\n",
    "\n",
    "# bar chart and histogram\n",
    "for column in df:\n",
    "    plt.figure(column, figsize = (4.9,4.9))\n",
    "    plt.title(column)\n",
    "    if is_numeric_dtype(df[column]):\n",
    "            df[column].plot(kind = 'hist')\n",
    "    elif is_string_dtype(df[column]):\n",
    "     # show only the TOP 10 value count in each categorical data\n",
    "        df[column].value_counts()[:10].plot(kind = 'bar')"
   ]
  },
  {
   "cell_type": "code",
   "execution_count": null,
   "metadata": {},
   "outputs": [],
   "source": [
    "# correation matrix and heatmap\n",
    "correlation = df.corr()\n",
    "sns.heatmap(correlation, cmap = \"GnBu\", annot = True).set_properties(**{'font-size': '0pt'})\n",
    "\n"
   ]
  },
  {
   "cell_type": "code",
   "execution_count": null,
   "metadata": {},
   "outputs": [],
   "source": [
    "# pairplot\n",
    "sns.pairplot(df,height = 2)"
   ]
  },
  {
   "cell_type": "code",
   "execution_count": null,
   "metadata": {
    "scrolled": true
   },
   "outputs": [],
   "source": [
    "# grouped bar chart\n",
    "for i in range(0, len(cat_list)):\n",
    "    primary_cat = cat_list[i]\n",
    "    for j in range(0, len(cat_list)):\n",
    "        secondary_cat = cat_list[j]\n",
    "    if secondary_cat != primary_cat:\n",
    "            plt.figure (figsize = (15,15))\n",
    "            chart = sns.countplot(\n",
    "                data = df,\n",
    "                x= primary_cat, \n",
    "                hue= secondary_cat,\n",
    "                palette = 'GnBu',\n",
    "                order=df[primary_cat].value_counts().iloc[:10].index #show only TOP10\n",
    "              )"
   ]
  },
  {
   "cell_type": "code",
   "execution_count": null,
   "metadata": {},
   "outputs": [],
   "source": [
    "# pairplot with hue\n",
    "for i in range(0, len(cat_list)):\n",
    "    hue_cat = cat_list[i]\n",
    "    sns.pairplot(df, hue = hue_cat)\n"
   ]
  },
  {
   "cell_type": "code",
   "execution_count": null,
   "metadata": {},
   "outputs": [],
   "source": [
    "# box plot\n",
    "for i in range(0, len(cat_list)):\n",
    "    cat = cat_list[i]\n",
    "    for j in range(0, len(num_list)):\n",
    "        num = num_list[j]\n",
    "        plt.figure (figsize = (15,15))\n",
    "        sns.boxplot( x = cat, y = num, data = df, palette = \"GnBu\")"
   ]
  },
  {
   "cell_type": "code",
   "execution_count": null,
   "metadata": {},
   "outputs": [],
   "source": []
  },
  {
   "cell_type": "code",
   "execution_count": null,
   "metadata": {},
   "outputs": [],
   "source": []
  }
 ],
 "metadata": {
  "kernelspec": {
   "display_name": "Python 3",
   "language": "python",
   "name": "python3"
  },
  "language_info": {
   "codemirror_mode": {
    "name": "ipython",
    "version": 3
   },
   "file_extension": ".py",
   "mimetype": "text/x-python",
   "name": "python",
   "nbconvert_exporter": "python",
   "pygments_lexer": "ipython3",
   "version": "3.8.5"
  }
 },
 "nbformat": 4,
 "nbformat_minor": 4
}
